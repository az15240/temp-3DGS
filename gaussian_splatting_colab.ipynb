{
  "cells": [
    {
      "cell_type": "markdown",
      "metadata": {
        "id": "view-in-github",
        "colab_type": "text"
      },
      "source": [
        "<a href=\"https://colab.research.google.com/github/az15240/temp-3DGS/blob/main/gaussian_splatting_colab.ipynb\" target=\"_parent\"><img src=\"https://colab.research.google.com/assets/colab-badge.svg\" alt=\"Open In Colab\"/></a>"
      ]
    },
    {
      "cell_type": "code",
      "execution_count": 48,
      "metadata": {
        "id": "VjYy0F2gZIPR",
        "colab": {
          "base_uri": "https://localhost:8080/"
        },
        "outputId": "5c89ed82-9ea5-4b5e-c6d2-cc476e9e326e"
      },
      "outputs": [
        {
          "output_type": "stream",
          "name": "stdout",
          "text": [
            "/content\n",
            "fatal: destination path 'gaussian-splatting' already exists and is not an empty directory.\n"
          ]
        }
      ],
      "source": [
        "%cd /content\n",
        "!git clone --recursive https://github.com/PLSE-Splats/gaussian-splatting.git\n",
        "!pip install -q plyfile\n"
      ]
    },
    {
      "cell_type": "markdown",
      "source": [],
      "metadata": {
        "id": "ZNqBn4FMZIQd"
      }
    },
    {
      "cell_type": "code",
      "source": [
        "  !git config --global user.email \"guangyg@uw.com\"\n",
        "  !git config --global user.name \"Stanley Yang\""
      ],
      "metadata": {
        "id": "KTPMQrrMf3nG"
      },
      "execution_count": 49,
      "outputs": []
    },
    {
      "cell_type": "code",
      "source": [
        "from typing import get_args\n",
        "%cd /content/gaussian-splatting/\n",
        "!git status\n",
        "!git submodule sync\n",
        "!git submodule update --remote --recursive\n",
        "!cat .gitmodules\n",
        "# !git checkout backward-in-progress\n",
        "!git remote -v\n",
        "%rm -rf /content/gaussian-splatting/submodules/diff-gaussian-rasterization/\n",
        "%cd /content/gaussian-splatting/submodules/\n",
        "!git clone --recursive https://github.com/PLSE-Splats/diff-gaussian-rasterization.git\n",
        "%cd /content/gaussian-splatting/submodules/diff-gaussian-rasterization/\n",
        "!git status\n",
        "# !git log --oneline\n",
        "!git submodule sync\n",
        "!git submodule update --remote --recursive\n",
        "!git checkout one-kernel-b\n",
        "# !git remote -v\n",
        "\n"
      ],
      "metadata": {
        "colab": {
          "base_uri": "https://localhost:8080/"
        },
        "id": "98RvyGV5a9Eq",
        "outputId": "6ad17a8a-0463-435e-b8b3-75560be3de3b"
      },
      "execution_count": 50,
      "outputs": [
        {
          "output_type": "stream",
          "name": "stdout",
          "text": [
            "/content/gaussian-splatting\n",
            "On branch backward-in-progress\n",
            "Your branch is up to date with 'origin/backward-in-progress'.\n",
            "\n",
            "Changes not staged for commit:\n",
            "  (use \"git add <file>...\" to update what will be committed)\n",
            "  (use \"git restore <file>...\" to discard changes in working directory)\n",
            "  (commit or discard the untracked or modified content in submodules)\n",
            "\t\u001b[31mmodified:   .gitmodules\u001b[m\n",
            "\t\u001b[31mmodified:   SIBR_viewers\u001b[m (new commits)\n",
            "\t\u001b[31mmodified:   submodules/diff-gaussian-rasterization\u001b[m (new commits, modified content)\n",
            "\t\u001b[31mmodified:   submodules/fused-ssim\u001b[m (new commits)\n",
            "\t\u001b[31mmodified:   submodules/simple-knn\u001b[m (untracked content)\n",
            "\n",
            "Untracked files:\n",
            "  (use \"git add <file>...\" to include in what will be committed)\n",
            "\t\u001b[31mdb/\u001b[m\n",
            "\t\u001b[31mdiff-gaussian-rasterization/\u001b[m\n",
            "\t\u001b[31mgaussian-splatting/\u001b[m\n",
            "\t\u001b[31mtandt/\u001b[m\n",
            "\t\u001b[31mtandt_db.zip\u001b[m\n",
            "\t\u001b[31mtandt_db.zip.1\u001b[m\n",
            "\n",
            "no changes added to commit (use \"git add\" and/or \"git commit -a\")\n",
            "Synchronizing submodule url for 'SIBR_viewers'\n",
            "Synchronizing submodule url for 'submodules/diff-gaussian-rasterization'\n",
            "Synchronizing submodule url for 'submodules/fused-ssim'\n",
            "Synchronizing submodule url for 'submodules/simple-knn'\n",
            "[submodule \"submodules/simple-knn\"]\n",
            "\tpath = submodules/simple-knn\n",
            "\turl = https://gitlab.inria.fr/bkerbl/simple-knn.git\n",
            "[submodule \"submodules/diff-gaussian-rasterization\"]\n",
            "\tpath = submodules/diff-gaussian-rasterization\n",
            "\turl = https://github.com/PLSE-Splats/diff-gaussian-rasterization.git\n",
            "\tbranch = one-kernel-b\n",
            "[submodule \"SIBR_viewers\"]\n",
            "\tpath = SIBR_viewers\n",
            "\turl = https://gitlab.inria.fr/sibr/sibr_core.git\n",
            "[submodule \"submodules/fused-ssim\"]\n",
            "\tpath = submodules/fused-ssim\n",
            "\turl = https://github.com/rahul-goel/fused-ssim.git\n",
            "origin\thttps://github.com/PLSE-Splats/gaussian-splatting.git (fetch)\n",
            "origin\thttps://github.com/PLSE-Splats/gaussian-splatting.git (push)\n",
            "/content/gaussian-splatting/submodules\n",
            "Cloning into 'diff-gaussian-rasterization'...\n",
            "remote: Enumerating objects: 633, done.\u001b[K\n",
            "remote: Counting objects: 100% (105/105), done.\u001b[K\n",
            "remote: Compressing objects: 100% (24/24), done.\u001b[K\n",
            "remote: Total 633 (delta 92), reused 84 (delta 81), pack-reused 528 (from 2)\u001b[K\n",
            "Receiving objects: 100% (633/633), 536.40 KiB | 9.93 MiB/s, done.\n",
            "Resolving deltas: 100% (423/423), done.\n",
            "Submodule 'third_party/glm' (https://github.com/g-truc/glm.git) registered for path 'third_party/glm'\n",
            "Cloning into '/content/gaussian-splatting/submodules/diff-gaussian-rasterization/third_party/glm'...\n",
            "remote: Enumerating objects: 59935, done.        \n",
            "remote: Counting objects: 100% (217/217), done.        \n",
            "remote: Compressing objects: 100% (91/91), done.        \n",
            "remote: Total 59935 (delta 170), reused 126 (delta 126), pack-reused 59718 (from 2)        \n",
            "Receiving objects: 100% (59935/59935), 71.37 MiB | 27.65 MiB/s, done.\n",
            "Resolving deltas: 100% (45404/45404), done.\n",
            "Submodule path 'third_party/glm': checked out '5c46b9c07008ae65cb81ab79cd677ecc1934b903'\n",
            "/content/gaussian-splatting/submodules/diff-gaussian-rasterization\n",
            "On branch main\n",
            "Your branch is up to date with 'origin/main'.\n",
            "\n",
            "nothing to commit, working tree clean\n",
            "Synchronizing submodule url for 'third_party/glm'\n",
            "Submodule path 'third_party/glm': checked out '2d4c4b4dd31fde06cfffad7915c2b3006402322f'\n",
            "M\tthird_party/glm\n",
            "Branch 'one-kernel-b' set up to track remote branch 'one-kernel-b' from 'origin'.\n",
            "Switched to a new branch 'one-kernel-b'\n"
          ]
        }
      ]
    },
    {
      "cell_type": "code",
      "source": [
        "%cd /content/gaussian-splatting/submodules/diff-gaussian-rasterization/\n",
        "!git status\n",
        "!git branch\n",
        "!git log --oneline"
      ],
      "metadata": {
        "collapsed": true,
        "id": "oywR9fSYfWYl",
        "outputId": "fac06821-8c1b-45ed-d4cc-8ec9ef846475",
        "colab": {
          "base_uri": "https://localhost:8080/"
        }
      },
      "execution_count": 51,
      "outputs": [
        {
          "output_type": "stream",
          "name": "stdout",
          "text": [
            "/content/gaussian-splatting/submodules/diff-gaussian-rasterization\n",
            "On branch one-kernel-b\n",
            "Your branch is up to date with 'origin/one-kernel-b'.\n",
            "\n",
            "Changes not staged for commit:\n",
            "  (use \"git add <file>...\" to update what will be committed)\n",
            "  (use \"git restore <file>...\" to discard changes in working directory)\n",
            "\t\u001b[31mmodified:   third_party/glm\u001b[m (new commits)\n",
            "\n",
            "no changes added to commit (use \"git add\" and/or \"git commit -a\")\n",
            "  main\u001b[m\n",
            "* \u001b[32mone-kernel-b\u001b[m\n",
            "\u001b[33m78dd3f0\u001b[m\u001b[33m (\u001b[m\u001b[1;36mHEAD -> \u001b[m\u001b[1;32mone-kernel-b\u001b[m\u001b[33m, \u001b[m\u001b[1;31morigin/one-kernel-b\u001b[m\u001b[33m)\u001b[m add grad check\n",
            "\u001b[33m5222de0\u001b[m WIP: backwward process\n",
            "\u001b[33m3595f48\u001b[m Backward In Progress 01, illegal memory access happens casually\n",
            "\u001b[33mca21706\u001b[m\u001b[33m (\u001b[m\u001b[1;31morigin/one_kernel\u001b[m\u001b[33m)\u001b[m Fixed block scan\n",
            "\u001b[33m3c41a7e\u001b[m Better logic but valid_count is still giving garbage\n",
            "\u001b[33m56806cc\u001b[m WIP check valid_count before proceeding\n",
            "\u001b[33m48c794c\u001b[m Illegal memory access?\n",
            "\u001b[33m339961b\u001b[m WIP implemented continuous fetching but is unable to run\n",
            "\u001b[33me2f3500\u001b[m WIP moved continuous fetching into process loop\n",
            "\u001b[33m9e7f25f\u001b[m WIP continuous fetching until data is filled\n",
            "\u001b[33m2dae369\u001b[m Clock profiling shows SKM takes too long, need better fetching\n",
            "\u001b[33mc924565\u001b[m It works??\n",
            "\u001b[33meb37419\u001b[m Arranged arguments\n",
            "\u001b[33mbb8c551\u001b[m Draft implementation\n",
            "\u001b[33mc6a9fb9\u001b[m WIP: Collected clustering info\n",
            "\u001b[33m4e55442\u001b[m WIP: Collected info for rendering\n",
            "\u001b[33mcb7e374\u001b[m WIP: complete block phase, being checks for pixel phase\n",
            "\u001b[33md5c29bf\u001b[m Fetch data and check tile intersection\n",
            "\u001b[33md23d4da\u001b[m Created new kernel stub and outlined parts\n",
            "\u001b[33m6d5a29f\u001b[m Ignore extra build file\n",
            "\u001b[33mce35987\u001b[m Rebuild and add gitignore\n",
            "\u001b[33m9c5c202\u001b[m\u001b[33m (\u001b[m\u001b[1;31morigin/dr_aa\u001b[m\u001b[33m)\u001b[m toggle antialiasing\n",
            "\u001b[33meb01570\u001b[m depth regularization + antialiasing\n",
            "\u001b[33m59f5f77\u001b[m\u001b[33m (\u001b[m\u001b[1;31morigin/main\u001b[m\u001b[33m, \u001b[m\u001b[1;31morigin/HEAD\u001b[m\u001b[33m, \u001b[m\u001b[1;32mmain\u001b[m\u001b[33m)\u001b[m Added submodule license\n",
            "\u001b[33mdf36a86\u001b[m Update CMakeLists.txt\n",
            "\u001b[33m8064f52\u001b[m Better output\n",
            "\u001b[33m73917be\u001b[m Debug functionality\n",
            "\u001b[33mf6f13c6\u001b[m Avoid integer overflow\n",
            "\u001b[33mfc0cfe9\u001b[m Merge pull request #1 from grgkopanas/main_fix\n",
            "\u001b[33m74155ec\u001b[m gitignore\n",
            "\u001b[33mbe2f74a\u001b[m fix two corner cases where we dont have points\n",
            "\u001b[33mc78d81f\u001b[m Added Readme\n",
            "\u001b[33m4aedd82\u001b[m Added license files\n",
            "\u001b[33m3a07ac2\u001b[m No more activation inside, guardbands removed\n",
            "\u001b[33mfeecabd\u001b[m It's not true!\n",
            "\u001b[33m8acf39d\u001b[m renamed files\n",
            "\u001b[33m78fa75d\u001b[m constexpr->const to support earlier cuda versions\n",
            "\u001b[33m677e32c\u001b[m Revert \"Support for fill color\"\n",
            "\u001b[33maf946be\u001b[m Support for fill color\n",
            "\u001b[33mcc408a2\u001b[m Interesting bugfix!\n",
            "\u001b[33mee2873f\u001b[m default null\n",
            "\u001b[33ma42fd59\u001b[m Merge branch 'static_only'\n",
            "\u001b[33m55b0c1b\u001b[m This was a bad idea, undoing it\n",
            "\u001b[33m681c0f9\u001b[m Removed bad conversions\n",
            "\u001b[33m79cbd71\u001b[m No more persistent state\n",
            "\u001b[33me41a365\u001b[m working with instances\n",
            "\u001b[33m3851457\u001b[m changes\n",
            "\u001b[33m8a219fd\u001b[m changes:\n",
            "\u001b[33m64f7c22\u001b[m work with state\n",
            "\u001b[33mbccbb2e\u001b[m InternalState explicit now\n",
            "\u001b[33mffee75d\u001b[m Removed version message\n",
            "\u001b[33m6464503\u001b[m Linux fix\n",
            "\u001b[33mbab1bec\u001b[m Linux fix\n",
            "\u001b[33mc8e8b63\u001b[m Linux fix\n",
            "\u001b[33mbd2b368\u001b[m Linux fix\n",
            "\u001b[33m476615b\u001b[m clean submodule\n",
            "\u001b[33ma25e54d\u001b[m Proper module\n",
            "\u001b[33m5bf655b\u001b[m Added submodule\n",
            "\u001b[33m3021524\u001b[m Initial commit\n"
          ]
        }
      ]
    },
    {
      "cell_type": "code",
      "source": [
        "\n",
        "%cd /content/gaussian-splatting\n",
        "\n",
        "!pip install -q /content/gaussian-splatting/submodules/diff-gaussian-rasterization\n",
        "!pip install -q /content/gaussian-splatting/submodules/simple-knn\n",
        "\n",
        "# !wget https://huggingface.co/camenduru/gaussian-splatting/resolve/main/tandt_db.zip\n",
        "# !unzip tandt_db.zip\n",
        "\n",
        "# !python train.py -s /content/gaussian-splatting/tandt/train\n",
        "\n",
        "# !wget https://huggingface.co/camenduru/gaussian-splatting/resolve/main/GaussianViewTest.zip\n",
        "# !unzip GaussianViewTest.zip\n",
        "# !python render.py -m /content/gaussian-splatting/GaussianViewTest/model\n",
        "# !ffmpeg -framerate 3 -i /content/gaussian-splatting/GaussianViewTest/model/train/ours_30000/renders/%05d.png -vf \"pad=ceil(iw/2)*2:ceil(ih/2)*2\" -c:v libx264 -r 3 -pix_fmt yuv420p /content/renders.mp4\n",
        "# !ffmpeg -framerate 3 -i /content/gaussian-splatting/GaussianViewTest/model/train/ours_30000/gt/%05d.png -vf \"pad=ceil(iw/2)*2:ceil(ih/2)*2\" -c:v libx264 -r 3 -pix_fmt yuv420p /content/gt.mp4 -y"
      ],
      "metadata": {
        "colab": {
          "base_uri": "https://localhost:8080/"
        },
        "collapsed": true,
        "id": "dI33GcKEZIaC",
        "outputId": "2a05648f-b8c5-494c-b96c-bfd5fc6db69e"
      },
      "execution_count": 52,
      "outputs": [
        {
          "output_type": "stream",
          "name": "stdout",
          "text": [
            "/content/gaussian-splatting\n",
            "  Preparing metadata (setup.py) ... \u001b[?25l\u001b[?25hdone\n",
            "  Building wheel for diff_gaussian_rasterization (setup.py) ... \u001b[?25l\u001b[?25hdone\n",
            "  Preparing metadata (setup.py) ... \u001b[?25l\u001b[?25hdone\n",
            "  Building wheel for simple_knn (setup.py) ... \u001b[?25l\u001b[?25hdone\n"
          ]
        }
      ]
    },
    {
      "cell_type": "code",
      "source": [
        "!python train.py -s /content/gaussian-splatting/tandt/train -m output/one-kernel"
      ],
      "metadata": {
        "id": "uutoKwD5hwxX",
        "outputId": "daee946b-e77e-414b-e46a-e0b0be2b6f46",
        "colab": {
          "base_uri": "https://localhost:8080/"
        }
      },
      "execution_count": 53,
      "outputs": [
        {
          "output_type": "stream",
          "name": "stdout",
          "text": [
            "2025-06-02 22:43:45.532989: E external/local_xla/xla/stream_executor/cuda/cuda_fft.cc:477] Unable to register cuFFT factory: Attempting to register factory for plugin cuFFT when one has already been registered\n",
            "WARNING: All log messages before absl::InitializeLog() is called are written to STDERR\n",
            "E0000 00:00:1748904225.554362   36223 cuda_dnn.cc:8310] Unable to register cuDNN factory: Attempting to register factory for plugin cuDNN when one has already been registered\n",
            "E0000 00:00:1748904225.560977   36223 cuda_blas.cc:1418] Unable to register cuBLAS factory: Attempting to register factory for plugin cuBLAS when one has already been registered\n",
            "2025-06-02 22:43:45.581996: I tensorflow/core/platform/cpu_feature_guard.cc:210] This TensorFlow binary is optimized to use available CPU instructions in performance-critical operations.\n",
            "To enable the following instructions: AVX2 FMA, in other operations, rebuild TensorFlow with the appropriate compiler flags.\n",
            "Optimizing output/one-kernel\n",
            "Output folder: output/one-kernel [02/06 22:43:50]\n",
            "Reading camera 301/301 [02/06 22:43:51]\n",
            "Loading Training Cameras [02/06 22:43:52]\n",
            "Loading Test Cameras [02/06 22:43:57]\n",
            "Number of points at initialisation :  182686 [02/06 22:43:57]\n",
            "Training progress:   0% 0/30000 [00:00<?, ?it/s]Size of cluster data 38455200 \n",
            "Size of cluster data 38455200 \n",
            "Kernel started\n",
            "before fetching\n",
            "before clustering\n",
            "Fetch:\t\t1491465\n",
            "\n",
            "[CUDA ERROR] in cuda_rasterizer/rasterizer_impl.cu\n",
            "Line 279: an illegal memory access was encounteredTraceback (most recent call last):\n",
            "  File \"/content/gaussian-splatting/train.py\", line 282, in <module>\n",
            "    training(lp.extract(args), op.extract(args), pp.extract(args), args.test_iterations, args.save_iterations, args.checkpoint_iterations, args.start_checkpoint, args.debug_from)\n",
            "  File \"/content/gaussian-splatting/train.py\", line 111, in training\n",
            "    render_pkg = render(viewpoint_cam, gaussians, pipe, bg, use_trained_exp=dataset.train_test_exp, separate_sh=SPARSE_ADAM_AVAILABLE)\n",
            "                 ^^^^^^^^^^^^^^^^^^^^^^^^^^^^^^^^^^^^^^^^^^^^^^^^^^^^^^^^^^^^^^^^^^^^^^^^^^^^^^^^^^^^^^^^^^^^^^^^^^^^^^^^^^^^^^^^^^^^^\n",
            "  File \"/content/gaussian-splatting/gaussian_renderer/__init__.py\", line 102, in render\n",
            "    rendered_image, radii, depth_image = rasterizer(\n",
            "                                         ^^^^^^^^^^^\n",
            "  File \"/usr/local/lib/python3.11/dist-packages/torch/nn/modules/module.py\", line 1739, in _wrapped_call_impl\n",
            "    return self._call_impl(*args, **kwargs)\n",
            "           ^^^^^^^^^^^^^^^^^^^^^^^^^^^^^^^^\n",
            "  File \"/usr/local/lib/python3.11/dist-packages/torch/nn/modules/module.py\", line 1750, in _call_impl\n",
            "    return forward_call(*args, **kwargs)\n",
            "           ^^^^^^^^^^^^^^^^^^^^^^^^^^^^^\n",
            "  File \"/usr/local/lib/python3.11/dist-packages/diff_gaussian_rasterization/__init__.py\", line 197, in forward\n",
            "    return rasterize_gaussians(\n",
            "           ^^^^^^^^^^^^^^^^^^^^\n",
            "  File \"/usr/local/lib/python3.11/dist-packages/diff_gaussian_rasterization/__init__.py\", line 32, in rasterize_gaussians\n",
            "    return _RasterizeGaussians.apply(\n",
            "           ^^^^^^^^^^^^^^^^^^^^^^^^^^\n",
            "  File \"/usr/local/lib/python3.11/dist-packages/torch/autograd/function.py\", line 575, in apply\n",
            "    return super().apply(*args, **kwargs)  # type: ignore[misc]\n",
            "           ^^^^^^^^^^^^^^^^^^^^^^^^^^^^^^\n",
            "  File \"/usr/local/lib/python3.11/dist-packages/diff_gaussian_rasterization/__init__.py\", line 84, in forward\n",
            "    num_rendered, color, radii, geomBuffer, binningBuffer, imgBuffer, invdepths = _C.rasterize_gaussians(*args)\n",
            "                                                                                  ^^^^^^^^^^^^^^^^^^^^^^^^^^^^^\n",
            "RuntimeError: an illegal memory access was encountered\n",
            "Training progress:   0% 0/30000 [00:00<?, ?it/s]\n"
          ]
        }
      ]
    },
    {
      "cell_type": "code",
      "source": [
        "!python render.py -m /content/gaussian-splatting/output/0d72148f-1"
      ],
      "metadata": {
        "id": "rFBcT4x-idv3",
        "outputId": "bc8cca25-9e5a-4e89-dc27-ab994a1fd957",
        "colab": {
          "base_uri": "https://localhost:8080/"
        }
      },
      "execution_count": 55,
      "outputs": [
        {
          "output_type": "stream",
          "name": "stdout",
          "text": [
            "Looking for config file in /content/gaussian-splatting/output/0d72148f-1/cfg_args\n",
            "Config file found: /content/gaussian-splatting/output/0d72148f-1/cfg_args\n",
            "Rendering /content/gaussian-splatting/output/0d72148f-1\n",
            "Traceback (most recent call last):\n",
            "  File \"/content/gaussian-splatting/render.py\", line 77, in <module>\n",
            "    render_sets(model.extract(args), args.iteration, pipeline.extract(args), args.skip_train, args.skip_test, SPARSE_ADAM_AVAILABLE)\n",
            "  File \"/content/gaussian-splatting/render.py\", line 51, in render_sets\n",
            "    scene = Scene(dataset, gaussians, load_iteration=iteration, shuffle=False)\n",
            "            ^^^^^^^^^^^^^^^^^^^^^^^^^^^^^^^^^^^^^^^^^^^^^^^^^^^^^^^^^^^^^^^^^^\n",
            "  File \"/content/gaussian-splatting/scene/__init__.py\", line 35, in __init__\n",
            "    self.loaded_iter = searchForMaxIteration(os.path.join(self.model_path, \"point_cloud\"))\n",
            "                       ^^^^^^^^^^^^^^^^^^^^^^^^^^^^^^^^^^^^^^^^^^^^^^^^^^^^^^^^^^^^^^^^^^^\n",
            "  File \"/content/gaussian-splatting/utils/system_utils.py\", line 27, in searchForMaxIteration\n",
            "    saved_iters = [int(fname.split(\"_\")[-1]) for fname in os.listdir(folder)]\n",
            "                                                          ^^^^^^^^^^^^^^^^^^\n",
            "FileNotFoundError: [Errno 2] No such file or directory: '/content/gaussian-splatting/output/0d72148f-1/point_cloud'\n"
          ]
        }
      ]
    }
  ],
  "metadata": {
    "accelerator": "GPU",
    "colab": {
      "gpuType": "T4",
      "provenance": [],
      "include_colab_link": true
    },
    "kernelspec": {
      "display_name": "Python 3",
      "name": "python3"
    },
    "language_info": {
      "name": "python"
    }
  },
  "nbformat": 4,
  "nbformat_minor": 0
}